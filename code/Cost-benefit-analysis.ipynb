{
 "cells": [
  {
   "cell_type": "markdown",
   "metadata": {},
   "source": [
    "## Cost-Benefit Analysis of Spray operations"
   ]
  },
  {
   "cell_type": "markdown",
   "metadata": {},
   "source": [
    "### Cost of spraying operations\n",
    "\n",
    "The city of Chicago started <a href = \"https://chicago.cbslocal.com/2017/08/30/spray-mosquitoes-far-south-side-west-nile-prevention/\"> spraying operations </a> for the first time in the first week of September 2017 in areas of the Pullman and South Deering neighborhoods. The operation starts at dusk (around 6.49 pm according to the weather dataset) and lasts till 1 a.m, making it an average of about 5 hours of spraying. The spraying is done by licensed mosquito abatement technicians in trucks dispensing an ultra-low-volume spray. The main chemical used is <a href = \"https://www.cmmcp.org/pesticide-information/pages/zenivex-e4-etofenprox\">Zenivex™ E4 </a>, which is  4% solution of a chemical known as Etofenprox, a reduced risk synthetic pyrethroid with an extremely low toxicity to mammals. It is sprayed from a truck at 4.5-9.0 ounces per minute, at a vehicle speed of 10-15 mph (16 to 24 kmh). The cost of Zenivex™ E4 is about USD \\$80 per gallon according to <a href = \"http://www.gfmosquito.com/wp-content/uploads/2013/06/2013-North-Dakota-Bid-Tabulation.pdf\"> tender information in North Dakota </a>.\n",
    "\n",
    "<img src=\"http://www.meepi.org/wnv/graphics/trucksprayjpg.jpg\" alt=\"ULV Sprayer in the City of Chicago\" width=\"400\">\n",
    "\n",
    "Assuming each truck travels at the lowest speed of 16 kmh, a single truck can spray approximately (16 km $\\times$ 0.003 km $\\times$ 5 hours) in a single night, covering 0.24 km<sup>2</sup>. If each truck were to spray an average of 6.75 ounces (0.05 gallon) per minute. Each truck would spray 3 gallons of Zenivex™ E4 per hour and hence 15 gallons a night. The total cost of Zenivex™ E4 for a truck for a night would hence be USD 80 per gallon $\\times$ 15 gallons = **USD 1,200** covering **0.24 km<sup>2</sup>**. The cost to spray **1 km<sup>2</sup>** will be approximately **USD 5,000**.\n",
    "\n",
    "If each truck were to travel at the highest speed of 24 kmh, a single truck can spray approximately (24 km $\\times$ 0.003 km $\\times$ 5 hours) in a single night, covering 0.36 km<sup>2</sup>. Assuming the cost for Zenivex™ E4 per truck for the entire night is the same as above, we would spend **USD 1,200** covering 0.36 km<sup>2</sup> per truck. The cost to spray **1 km<sup>2</sup>** will be approximately **USD 3,333**.\n",
    "\n",
    "Considering the city of Chicago has a total areas of 606.1 km<sup>2</sup> of which an estimated 50 \\% is built-up area that is driveable, it would cost between **USD 1.21 - USD 1.82 million** to cover the entire city assuming that we incure a fixed cost premium of 20 \\% for the operation of trucks and fuel costs and worker salaries are with almost no wastage of chemicals. \n",
    "\n",
    "\n",
    "\n"
   ]
  },
  {
   "cell_type": "markdown",
   "metadata": {},
   "source": [
    "### Benefits of spraying operations\n",
    "\n",
    "There are multiple benefits from a reduced mosquito population as a result of spraying. These include an increased quality of life from fewer people falling sick and dying, increased workplace productivity from fewer people falling ill and going on medical leave, as well as savings in hospital expenses from treating WNV patients. Of these, only the latter two are measurable.\n",
    "\n",
    "About 1 in 5 people infected with WNV develop the highly incapacitative <a href = \"https://www.uptodate.com/contents/west-nile-virus-infection-beyond-the-basics\">West Nile fever </a> with other symptoms such as headache, body aches, joint pains, vomiting, etc. Recovery from West Nile fever takes from a few days to several weeks, and prolonged fatigue is common.\n",
    "\n",
    "About 1 in 150 people infected develop severe neuroinvasive diseases such as encephalitis or meningitis, in which the virus travels through the blood and infects the brain and spinal cord. Recovery is prolonged and less than 40% of patients with the severe diseases recover after one year.\n",
    "\n",
    "Given that the <a href=\"https://datausa.io/profile/geo/chicago-il/\">median household income</a> in Chicago was \\\\$55,295 (as of 2017), one can estimate the amount of losses the city will face from a workforce affected by WNV. \n",
    "\n",
    "In 2017, there were <a href=\"https://chicago.cbslocal.com/2018/08/29/west-nile-virus-death-reported-in-illinois/\"> 90 WNV cases, including 8 deaths </a>. This means that approximately 18 people developed West Nile fever. Assuming all were working adults and each took two weeks off work to recover, this would have resulted in a total income loss of \\\\$38,281 in total. On average, each WNV patient spends approximately \\\\$25,000 in the hospital. Therefore the total monetary loss caused by WNV in 2017 is approximately **\\\\$488,281**."
   ]
  },
  {
   "cell_type": "markdown",
   "metadata": {},
   "source": [
    "## Summary and recomendations of Cost-Benefit Analysis\n",
    "\n",
    "---\n",
    "\n",
    "Examination of the the total costs of spraying the whole of Chicago compared against the benefits show that the costs far outweigh the benefits in monetary terms. At best, accounting for inflation or even a pessimistic outcome of having 50% more WNV infections, the total monetary benefit to Chicago as a society may only be 26%-40% of the total cost of spraying.\n",
    "\n",
    "However, our model does not take into account any non-monetary benefits to reducing the mosquito population. These include the emotional costs from loss of life, the reduction in the need for enhanced testing for suspected WNV cases and public confidence in the government.\n",
    "\n",
    "From previous geospatial analysis of spray data, there is a distinct lack of evidence to support the claim that mosquito spraying had any effect on the reduction of WNV-infected mosquitos. Furthermore, the spray data pointed towards highly fragmented and haphazardous spraying operations that did not seem to be driven by the evidence if the presence and severity of WNV mosquito infestations. Traps such as the T900 trap at O'Hare International airport which proved to capture the most WNV-infected mosquitos by far were not sprayed. \n",
    "\n",
    "Given the high costs required to conduct spraying operations, we hence recommend the following action points:\n",
    "\n",
    "1. Re-examine the effectiveness of spraying Zenivex™ E4 as a means to control the mosquito population. Evidence points towards the ineffectiveness of the chemical and it is likely that other kinds of non-toxic mosquito sprays should be explored.\n",
    "\n",
    "2. Re-direct mosquito spraying operations in a more organised and evidence-driven manner whereby severe hotspots such as O'Hare International Airport are sprayed first at the beginning of summer in order to prevent large populations of mosquitos forming. In addition, spraying operations should be accurately logged and routes planned to make sure mosquito breeding sites are properly covered.\n",
    "\n",
    "3. Examine new ways of controlling the mosquito population that may arguably cost less than spraying the whole of Chicago. Innovative ways of doing so may include 'anti-mosquito' campaigns done in places such as Singapore or even public education to remove all stagnant water-sources. "
   ]
  },
  {
   "cell_type": "code",
   "execution_count": null,
   "metadata": {},
   "outputs": [],
   "source": []
  }
 ],
 "metadata": {
  "kernelspec": {
   "display_name": "Python 3",
   "language": "python",
   "name": "python3"
  },
  "language_info": {
   "codemirror_mode": {
    "name": "ipython",
    "version": 3
   },
   "file_extension": ".py",
   "mimetype": "text/x-python",
   "name": "python",
   "nbconvert_exporter": "python",
   "pygments_lexer": "ipython3",
   "version": "3.7.6"
  }
 },
 "nbformat": 4,
 "nbformat_minor": 4
}
